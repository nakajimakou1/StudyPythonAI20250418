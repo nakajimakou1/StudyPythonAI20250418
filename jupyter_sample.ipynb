{
 "cells": [
  {
   "cell_type": "code",
   "execution_count": 1,
   "metadata": {
    "colab": {},
    "colab_type": "code",
    "id": "nLmWDrdBKOwX"
   },
   "outputs": [],
   "source": [
    "# jupyter notebook 実行"
   ]
  },
  {
   "cell_type": "code",
   "execution_count": 3,
   "metadata": {
    "colab": {},
    "colab_type": "code",
    "id": "r0Zej8TUj6Y0"
   },
   "outputs": [],
   "source": [
    "# 以降はコメント\n",
    "# !コマンド実行\n",
    "!python -V  # comment"
   ]
  },
  {
   "cell_type": "code",
   "execution_count": null,
   "metadata": {},
   "outputs": [],
   "source": []
  }
 ],
 "metadata": {
  "accelerator": "GPU",
  "colab": {
   "collapsed_sections": [],
   "name": "section7_1.ipynb",
   "provenance": [
    {
     "file_id": "1xpPJrFxVdHr82WHEkuriem2Eh7n6VUIY",
     "timestamp": 1540358810564
    }
   ]
  },
  "kernelspec": {
   "display_name": "Python 3 (ipykernel)",
   "language": "python",
   "name": "python3"
  },
  "language_info": {
   "codemirror_mode": {
    "name": "ipython",
    "version": 3
   },
   "file_extension": ".py",
   "mimetype": "text/x-python",
   "name": "python",
   "nbconvert_exporter": "python",
   "pygments_lexer": "ipython3",
   "version": "3.10.9"
  }
 },
 "nbformat": 4,
 "nbformat_minor": 1
}
